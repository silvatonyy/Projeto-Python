{
 "cells": [
  {
   "cell_type": "code",
   "execution_count": null,
   "metadata": {},
   "outputs": [],
   "source": []
  },
  {
   "cell_type": "markdown",
   "metadata": {},
   "source": [
    "O que vai ser analisado.\n",
    "\n",
    "Neste relatório, vamos realizar uma análise detalhada dos dados de inscrição do FIES, seguindo um processo estruturado em cinco etapas principais. Nosso objetivo é entender melhor o perfil dos candidatos e as ofertas de cursos disponíveis.\n",
    "\n",
    "#Passo 1: Estados com Mais Inscritos\n",
    "Primeiro, vamos identificar os estados brasileiros com o maior número de inscritos no FIES. Esta análise nos ajudará a entender quais regiões estão mais engajadas em buscar financiamento estudantil, o que pode refletir tanto a demanda por educação superior quanto as condições socioeconômicas dos candidatos.\n",
    "\n",
    "#Passo 2: Distribuição por Sexo\n",
    "Em seguida, analisaremos a distribuição dos inscritos por sexo, comparando a quantidade de candidatos masculinos e femininos.\n",
    "\n",
    "#Passo 3:  Origem Escolar dos Inscritos\n",
    "A seguir, vamos analisar a origem escolar dos candidatos, distinguindo entre aqueles que vieram de escolas públicas e os que estudaram em instituições privadas.\n",
    "\n",
    "#Passo 4: Estados com Mais Ofertas de Vagas\n",
    "Além de analisar os inscritos, também verificaremos quais estados oferecem mais vagas através do FIES. Esta etapa nos ajudará a mapear a distribuição das oportunidades de financiamento estudantil pelo país e a entender melhor a relação entre a oferta de vagas e a demanda por financiamento.\n",
    "\n",
    "#Passo 5: Municípios com Mais Locais de Oferta\n",
    "Por fim, vamos identificar os municípios com o maior número de locais de oferta para os cursos financiados pelo FIES."
   ]
  },
  {
   "cell_type": "code",
   "execution_count": 2,
   "metadata": {},
   "outputs": [
    {
     "name": "stdout",
     "output_type": "stream",
     "text": [
      "UF com mais inscritos: SP\n",
      "Sexo com mais inscritos: F\n",
      "As inscrições teve mais alunos do ensino médio: SIM\n",
      "Estado com mais ofertas: SP\n",
      "Município com mais locais de oferta: SÃO PAULO\n"
     ]
    }
   ],
   "source": [
    "import pandas as pd\n",
    "\n",
    "file_path = 'relatorio_inscricao_dados_abertos_fies_12021.csv'\n",
    "data = pd.read_csv(file_path, delimiter=';', encoding='latin1')\n",
    "\n",
    "uf_counts = data['UF de residência'].value_counts()\n",
    "print(\"UF com mais inscritos:\", uf_counts.idxmax())\n",
    "\n",
    "sexo_counts = data['Sexo'].value_counts()\n",
    "print(\"Sexo com mais inscritos:\", sexo_counts.idxmax())\n",
    "\n",
    "tipo_escola_counts = data['Tipo de escola no ensino médio'].value_counts()\n",
    "print(\"As inscrições teve mais alunos do ensino médio:\", tipo_escola_counts.idxmax())\n",
    "\n",
    "uf_oferta_counts = data['UF do Local de Oferta'].value_counts()\n",
    "print(\"Estado com mais ofertas:\", uf_oferta_counts.idxmax())\n",
    "\n",
    "municipio_oferta_counts = data['Munícipio do Local de Oferta'].value_counts()\n",
    "print(\"Município com mais locais de oferta:\", municipio_oferta_counts.idxmax())\n"
   ]
  }
 ],
 "metadata": {
  "kernelspec": {
   "display_name": "Python 3",
   "language": "python",
   "name": "python3"
  },
  "language_info": {
   "codemirror_mode": {
    "name": "ipython",
    "version": 3
   },
   "file_extension": ".py",
   "mimetype": "text/x-python",
   "name": "python",
   "nbconvert_exporter": "python",
   "pygments_lexer": "ipython3",
   "version": "3.12.4"
  }
 },
 "nbformat": 4,
 "nbformat_minor": 2
}
